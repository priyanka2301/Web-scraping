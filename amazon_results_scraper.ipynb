{
 "cells": [
  {
   "cell_type": "code",
   "execution_count": 24,
   "metadata": {},
   "outputs": [],
   "source": [
    "from selenium import webdriver\n",
    "from webdriver_manager.chrome import ChromeDriverManager\n",
    "from selenium.common.exceptions import NoSuchElementException\n",
    "from selectorlib import Extractor\n",
    "import requests\n",
    "import json\n",
    "import time"
   ]
  },
  {
   "cell_type": "code",
   "execution_count": 27,
   "metadata": {},
   "outputs": [],
   "source": [
    "def search_amazon(item):\n",
    "\n",
    "    driver = webdriver.Chrome(ChromeDriverManager().install())\n",
    "    driver.get('https://www.amazon.com')\n",
    "    search_box = driver.find_element_by_id('twotabsearchtextbox').send_keys(item)\n",
    "    search_button = driver.find_element_by_id(\"nav-search-submit-text\").click()\n",
    "\n",
    "    driver.implicitly_wait(5)\n",
    "\n",
    "    try:\n",
    "        num_page = driver.find_element_by_xpath('//*[@class=\"a-pagination\"]/li[3]')\n",
    "    except NoSuchElementException:\n",
    "        num_page = driver.find_element_by_class_name('a-last').click()\n",
    "\n",
    "    driver.implicitly_wait(3)\n",
    "\n",
    "    url_list = []\n",
    "\n",
    "    for i in range(int(num_page.text)):\n",
    "        page_ = i + 1\n",
    "        url_list.append(driver.current_url)\n",
    "        driver.implicitly_wait(4)\n",
    "        click_next = driver.find_element_by_class_name('a-last').click()\n",
    "        print(\"Page \" + str(page_) + \" grabbed\")\n",
    "\n",
    "    driver.quit()\n",
    "\n",
    "\n",
    "    with open('search_results_urls.txt', 'w') as filehandle:\n",
    "        for result_page in url_list:\n",
    "            filehandle.write('%s\\n' % result_page)\n",
    "\n",
    "    print(\"---DONE---\")"
   ]
  },
  {
   "cell_type": "code",
   "execution_count": 28,
   "metadata": {},
   "outputs": [
    {
     "name": "stderr",
     "output_type": "stream",
     "text": [
      "[WDM] - Current google-chrome version is 87.0.4280\n",
      "[WDM] - Get LATEST driver version for 87.0.4280\n",
      "[WDM] - Driver [C:\\Users\\M1060555\\.wdm\\drivers\\chromedriver\\win32\\87.0.4280.88\\chromedriver.exe] found in cache\n"
     ]
    },
    {
     "name": "stdout",
     "output_type": "stream",
     "text": [
      " \n",
      "Page 1 grabbed\n",
      "Page 2 grabbed\n",
      "---DONE---\n"
     ]
    }
   ],
   "source": [
    "def scrape(url):\n",
    "\n",
    "    headers = {\n",
    "        'dnt': '1',\n",
    "        'upgrade-insecure-requests': '1',\n",
    "        'user-agent': 'Mozilla/5.0 (Macintosh; Intel Mac OS X 10_15_4) AppleWebKit/537.36 (KHTML, like Gecko) Chrome/83.0.4103.61 Safari/537.36',\n",
    "        'accept': 'text/html,application/xhtml+xml,application/xml;q=0.9,image/webp,image/apng,*/*;q=0.8,application/signed-exchange;v=b3;q=0.9',\n",
    "        'sec-fetch-site': 'same-origin',\n",
    "        'sec-fetch-mode': 'navigate',\n",
    "        'sec-fetch-user': '?1',\n",
    "        'sec-fetch-dest': 'document',\n",
    "        'referer': 'https://www.amazon.com/',\n",
    "        'accept-language': 'en-GB,en-US;q=0.9,en;q=0.8',\n",
    "    }\n",
    "\n",
    "    # Download the page using requests\n",
    "    print(\"Downloading %s\"%url)\n",
    "    r = requests.get(url, headers=headers)\n",
    "    # Simple check to check if page was blocked (Usually 503)\n",
    "    if r.status_code > 500:\n",
    "        if \"To discuss automated access to Amazon data please contact\" in r.text:\n",
    "            print(\"Page %s was blocked by Amazon. Please try using better proxies\\n\"%url)\n",
    "        else:\n",
    "            print(\"Page %s must have been blocked by Amazon as the status code was %d\"%(url,r.status_code))\n",
    "        return None\n",
    "    # Pass the HTML of the page and create\n",
    "    return e.extract(r.text)\n",
    "\n",
    "search_amazon('microban') # <------ search query goes here."
   ]
  },
  {
   "cell_type": "code",
   "execution_count": 29,
   "metadata": {},
   "outputs": [
    {
     "name": "stdout",
     "output_type": "stream",
     "text": [
      "Downloading https://www.amazon.com/s?k=microban&ref=nb_sb_noss\n",
      "Saving Product: b'Microban 24 Hour Disinfectant Sanitizing Spray, Citrus Scent, 2 Count, 15 fl oz Each'\n",
      "Saving Product: b'Microban 24 Hour Sanitizing Spray, Fresh Scent 12.5 OZ'\n",
      "Saving Product: b'Microban Professional Sanitizing Spray'\n",
      "Saving Product: b'Microban 24 Hour Multi-Purpose Cleaner, Sanitizing and Disinfectant Spray, Fresh Scent, 22 Ounce (Pack of 2)'\n",
      "Saving Product: b'Microban Sanitizing Spray (Fresh Scent)'\n",
      "Saving Product: b'Microban 24 Hour Bathroom Cleaner and Sanitizing Spray, Fresh Scent - 32 Ounce (Pack of 2)'\n",
      "Saving Product: b'Microban 24 Hour Disinfectant Sanitizing Spray, Citrus Scent'\n",
      "Saving Product: b'Microban 24 Hour Bathroom Cleaner and Sanitizing Spray, Citrus Scent - 32 Ounce (Pack of 2)'\n",
      "Saving Product: b'Microban 24 Hour Bathroom Cleaner and Sanitizing Spray, Citrus Scent - 32 Ounce (Pack of 3)'\n",
      "Saving Product: b'Microban 24 Hour Bathroom Cleaner and Sanitizing Spray, Citrus Scent - 32 Ounce (Pack of 4)'\n",
      "Saving Product: b'MSAAEX 50 Pcs Disposable 4-ply Non-Woven Face Mask, Protected Health Masks (Adults-Black)'\n",
      "Saving Product: b'OUBA 6 Pack Glasses Style Visor Transparent Anti-Fog Layer Anti Air Dust Cover,Unisex Mouth Cover, Fashion Protective for Men Women'\n",
      "Saving Product: b'OMK 2 Pcs Reusable Face Shields'\n",
      "Saving Product: b'Bigox Face Mask Disposable Earloop Blue 50Pcs'\n",
      "Saving Product: b'Hibiclens Antimicrobial/Antiseptic Skin Cleanser 32 Fluid Ounce Bottle for Antimicrobial Skin Cleansing'\n",
      "Saving Product: b'Clorox ToiletWand Disinfecting Refills, Rainforest Rush, 30 Ct (Package May Vary)'\n",
      "Saving Product: b'4pcs Reusable and Breathable Face Bandanas with Breathing Valve & 20pcs Activated Carbon Filters (4pcs+20filters)'\n",
      "Saving Product: b'[25 PCS] - 15 PCS Shield + 10 PCS Glasses Frame,Anti Air Dust Cover,Unisex Mouth Cover, Reusable Glasses Style Visor Transparent Anti-Fog Layer for Every Day Using'\n",
      "Saving Product: b'[O2 Lifecare] 3 qty Protective Face Shield Reusable Goggle Shield x 3 Pack'\n",
      "Saving Product: b'Dial Complete Antibacterial Foaming Hand Soap, Fresh Pear, 7.5 Fluid Ounces (Pack of 8)'\n",
      "Saving Product: b'Yimobra Original Bathtub Mat Non Slip, Extra Long Tub Shower Mat 16 x 40 Inches, Suction Cups, Drain Holes, Machine Washable, Phthalate Free, Latex Free, BPA Free, White'\n",
      "Saving Product: b'Activated Carbon Filters 5 Layers Replaceable Filters Paper (100 PCS)'\n",
      "Saving Product: b'Crayola Hand Sanitizer for Kids, for School, Safe for Skin, Made in USA, Display of 24 2oz Mini Travel Size Bottles'\n",
      "Saving Product: b'50pcs Black Disposable Face Shield Filter For Protection Mouth Shields Safety Health Dust Proof'\n",
      "Saving Product: b'Asofcof 50PCS Disposable Face 3 Layer Anti-Dust Earloops Protective Cover Mask (Blue)'\n",
      "Saving Product: b'VANELC UV Light Sanitizer Wand, Portable Ultraviolet Disinfection Lamp, Handheld Chargeable UVC Sterilizer can Kill 99.99% Harmful Substances for Hotel, Wardrobe, Toilet, Office'\n",
      "Saving Product: b'WAVE Essentials Bulk Gel Hand Sanitizer | Advanced No-Rinse Gel | 75% Alcohol | 2 Pack of 1.32 Gallon/5L Bottles with Easy to Use Pumps'\n",
      "Saving Product: b'50PCS Adult Activated Carbon PM2.5 Filter Insert 5 Layers Replacement Anti Haze PM 2.5 Mask Filter Paper'\n",
      "Saving Product: b'Reusable Cotton Adjustable Adult Protective Face Protector'\n",
      "Saving Product: b'Micro-Scientific Opti-Cide Max Disinfecting Wipes (2 Pack) - 320 Wipes - Hospital Grade EPA Registered Disinfectant Cleaner'\n",
      "Saving Product: b'CapLens Full Face Shield Cap Accessory, Anti-Fog, Adjustable, Reusable, Slip onto Your Existing Cap Black'\n",
      "Saving Product: b'P&G DISTRIBUTING MICROBAN Cleaners'\n",
      "Saving Product: b'Pine-Sol CloroxPro All Purpose Cleaner, Lavender Clean, 144 Ounces Each (Pack of 3) (97301) (Package May Vary)'\n",
      "Saving Product: b'WAVE Hand Sanitizer Gel, 48-pack 2 oz Travel Size, 75% Ethyl Alcohol, Bulk Mini 2 oz Individual Personal Hand Sanitizer'\n",
      "Saving Product: b'Mycolio Hospital Grade Disinfectant Wipes 160 Wipes - 6\" x 7\\xe2\\x80\\x9d - Disinfecting Antibacterial Sanitizing Cleaning Wipes'\n",
      "Saving Product: b'Cahot UV Light Sanitizer Wand, Portable UV Disinfector Lamp Rechargeable for Home, Hotel, Travel, UV Sanitizer Wand for All Purpose Household Clean'\n",
      "Saving Product: b'6PCS Reusable Cotton Protect Face With 12pcs Activated Carbon Filters For Man And Woman Outdoor Activitics (6pcs+12filters)'\n",
      "Saving Product: b'Face Bracket for Mask | 3D Mask Bracket Internal Support Frame for Comfortable Wearing | Mask Hack Easy to Breathe & Talk | Lipstick Saver for Face Mask | 3 Pack, Semi-Transparent'\n",
      "Saving Product: b'VLM Resuable & Washable Pro Cover with Extra Active Carbon Filters for Activities Outdoor Running Cycling Workout'\n",
      "Saving Product: b'1 Pack Gray + 10 Pcs Replacement Cotton Reusable Washable Reusable'\n",
      "Saving Product: b'LASHA 20pcs 5 Layers Protective Dust Safety Masks Disposable Face Masks (3D Mask)'\n",
      "Saving Product: b'RHINESTONE Hand Sanitizer Gel, Advanced No-Rinse Gel Formula, 75% Alcohol (Ethyl), Made in USA - 1 US Gallon (128 Oz.) Refill Bottle'\n",
      "Saving Product: b'(U.S. Ships) Larger Protection Area is Suitable for Adults to use The New 3D Cut Five-Layer Activated Carbon Filter with Replaceable Anti-Fog Filter Paper (20)'\n",
      "Saving Product: b'50 Pcs Disposable Face Masks, Daily Protective Mask for Face Comfortable 3 Layers Safety Mask with Elastic Earloops - Blue'\n",
      "Saving Product: b'Adjustable 3-pack daily face washable double-layer facial care with 6 filters'\n",
      "Saving Product: b'Portable UVC Wand Sanitizer | UV Light Sanitizer for Room | Handheld UV Light Sanitizer | Portable Disinfecting Light | Kills 99% of Germs Viruses & Bacteria (Purple)'\n",
      "Saving Product: b'Unisex reusable respirator with valve, 20 replaceable filters, Adjustable Ear Loops(black) (4PCS)'\n",
      "Saving Product: b'TRIP WIPES - Alcohol-Free Hand Sanitizing Antibacterial Hand Wipes For Planes, Trains, and Handshakes, 30 Count Pack Retail Display Box - (Citrus)'\n",
      "Downloading https://www.amazon.com/s?k=microban&page=2&qid=1610708931&ref=sr_pg_1\n",
      "Saving Product: b'Portable UVC Wand Sanitizer | UV Light Sanitizer for Room | Handheld UV Light Sanitizer | Portable Disinfecting Light | Kills 99% of Germs Viruses & Bacteria (Purple)'\n",
      "Saving Product: b'1 Pack Gray + 10 Pcs Replacement Cotton Reusable Washable Reusable'\n",
      "Saving Product: b'UV Light Sanitizer Wand, Portable UVC Disinfector Light Germicidal Lamp Chargable for Home Room Hotel Travel Car Kills 99% of Germs Viruses & Bacteria'\n",
      "Saving Product: b'1 Pack Black + 10 Pcs Replacement Cotton Reusable Washable Reusable'\n",
      "Saving Product: b'Automatic Spray Dispenser Station Kit(Dispenser + Stand) Two sets'\n",
      "Saving Product: b'Glad FLEXN Seal Food Storage Plastic Bags - Gallon - 35 Count, Pack of 4 (140 Total Bags) (Package May Vary)'\n",
      "Saving Product: b'BreeSafe Face Mask. Reusable and Washable. Adjustable straps. Microbe shield Protection for hygiene and reduced odors. Sustainable fabrics. Shields for Pollution, Pollen, Smoke, Personal Hea (White)'\n",
      "Saving Product: b'Protective Equip 5 Pack Face Shield Anti Fog Reusable Anti Saliva Plastic Face Shield for Men and Women, Wind Proof and Dust Proof Clear Face Shield - Premium Quality Face Shields'\n",
      "Saving Product: b'[M-Free][All New][Made in Korea] 20PCS MB Melt-Blown Replaceable FACE Cover Filter high Efficiency[Similar or Better Than That pm2.5 Activated Carbon]'\n",
      "Saving Product: b'Automatic Gel Hand Sanitizer Dispenser Station Kit Drip Catcher Touchless Auto Sensor Sanitizing Station Drip Catcher With Floor Stand With(Two Sets)'\n",
      "Saving Product: b'Custom Building Products Fusion Pro #115 Platinum 1 Gal. Single Component Grout,'\n",
      "Saving Product: b'\"Original\" premium 1-color shutter stamp'\n",
      "Saving Product: b'Slim&Trim 12 inch slimmer belt'\n",
      "Saving Product: b'Microban Sunworthy Hunting Dog Scenic Border'\n"
     ]
    }
   ],
   "source": [
    "# courtesy of https://github.com/scrapehero-code/amazon-scraper\n",
    "# Create an Extractor by reading from the YAML file\n",
    "e = Extractor.from_yaml_file('search_results.yml')\n",
    "\n",
    "# product_data = []\n",
    "with open(\"search_results_urls.txt\",'r') as urllist, open('search_results_output.jsonl','w') as outfile:\n",
    "    for url in urllist.read().splitlines():\n",
    "        data = scrape(url)\n",
    "        if data:\n",
    "            for product in data['products']:\n",
    "                product['search_url'] = url\n",
    "                print(\"Saving Product: %s\"%product['title'].encode('utf8'))\n",
    "                json.dump(product,outfile)\n",
    "                outfile.write(\"\\n\")\n",
    "                # sleep(5)\n"
   ]
  },
  {
   "cell_type": "code",
   "execution_count": null,
   "metadata": {},
   "outputs": [],
   "source": []
  },
  {
   "cell_type": "code",
   "execution_count": null,
   "metadata": {},
   "outputs": [],
   "source": []
  }
 ],
 "metadata": {
  "kernelspec": {
   "display_name": "Python 3",
   "language": "python",
   "name": "python3"
  },
  "language_info": {
   "codemirror_mode": {
    "name": "ipython",
    "version": 3
   },
   "file_extension": ".py",
   "mimetype": "text/x-python",
   "name": "python",
   "nbconvert_exporter": "python",
   "pygments_lexer": "ipython3",
   "version": "3.6.5"
  }
 },
 "nbformat": 4,
 "nbformat_minor": 4
}
