{
 "cells": [
  {
   "cell_type": "code",
   "execution_count": 1,
   "metadata": {},
   "outputs": [
    {
     "name": "stderr",
     "output_type": "stream",
     "text": [
      "C:\\Users\\M1056273\\AppData\\Local\\Continuum\\anaconda3\\lib\\site-packages\\statsmodels\\tools\\_testing.py:19: FutureWarning: pandas.util.testing is deprecated. Use the functions in the public API at pandas.testing instead.\n",
      "  import pandas.util.testing as tm\n"
     ]
    }
   ],
   "source": [
    "import pandas as pd\n",
    "import numpy as np\n",
    "import matplotlib.pyplot as plt\n",
    "import seaborn as sns\n",
    "%matplotlib inline\n",
    "import re\n",
    "import time\n",
    "from datetime import datetime\n",
    "import matplotlib.dates as mdates\n",
    "import matplotlib.ticker as ticker\n",
    "from urllib.request import urlopen\n",
    "from bs4 import BeautifulSoup\n",
    "import requests"
   ]
  },
  {
   "cell_type": "code",
   "execution_count": 3,
   "metadata": {},
   "outputs": [],
   "source": [
    "headers = {\"User-Agent\":\"Mozilla/5.0 (Windows NT 10.0; Win64; x64; rv:66.0) Gecko/20100101 Firefox/66.0\", \"Accept-Encoding\":\"gzip, deflate\", \"Accept\":\"text/html,application/xhtml+xml,application/xml;q=0.9,*/*;q=0.8\", \"DNT\":\"1\",\"Connection\":\"close\", \"Upgrade-Insecure-Requests\":\"1\"}\n",
    "\n",
    "    #r = requests.get('https://www.amazon.in/gp/bestsellers/books/ref=zg_bs_pg_'+str(pageNo)+'?ie=UTF8&pg='+str(pageNo), headers=headers)#, proxies=proxies)\n",
    "r = requests.get(\"https://www.amazon.com/Dude-Flushable-Dispenser-Vitamin-Eucalyptus/product-reviews/B07TFLFCH9/ref=cm_cr_dp_d_show_all_btm?ie=UTF8&reviewerType=all_reviews\" , headers=headers)\n",
    "content = r.content\n",
    "soup = BeautifulSoup(content, 'html.parser')"
   ]
  },
  {
   "cell_type": "code",
   "execution_count": 4,
   "metadata": {},
   "outputs": [
    {
     "name": "stdout",
     "output_type": "stream",
     "text": [
      "Amazon.com: Customer reviews: DUDE Wipes Flushable Wet Wipes Dispenser, Mint Chill, 48 Count (Pack of 3) Scented Wet Wipes with Vitamin-E, Aloe, Eucalyptus & Tea Tree Oils for at-Home Use, Septic and Sewer Safe\n"
     ]
    }
   ],
   "source": [
    "print(soup.title.text)"
   ]
  },
  {
   "cell_type": "code",
   "execution_count": 14,
   "metadata": {},
   "outputs": [],
   "source": [
    "no_pages = 50\n",
    "\n",
    "def get_data(pageNo):  \n",
    "    headers = {\"User-Agent\":\"Mozilla/5.0 (Windows NT 10.0; Win64; x64; rv:66.0) Gecko/20100101 Firefox/66.0\", \"Accept-Encoding\":\"gzip, deflate\", \"Accept\":\"text/html,application/xhtml+xml,application/xml;q=0.9,*/*;q=0.8\", \"DNT\":\"1\",\"Connection\":\"close\", \"Upgrade-Insecure-Requests\":\"1\"}\n",
    "\n",
    "    #r = requests.get('https://www.amazon.in/gp/bestsellers/books/ref=zg_bs_pg_'+str(pageNo)+'?ie=UTF8&pg='+str(pageNo), headers=headers)#, proxies=proxies)\n",
    "    r = requests.get(\"https://www.amazon.com/Dude-Flushable-Dispenser-Vitamin-Eucalyptus/product-reviews/B07TFLFCH9/ref=cm_cr_dp_d_show_all_btm?ie=UTF8&reviewerType=all_reviews&pageNumber=\" + str(pageNo) , headers=headers)\n",
    "    content = r.content\n",
    "    soup = BeautifulSoup(content, 'html.parser')\n",
    "    #print(soup)\n",
    "    \n",
    "\n",
    "    alls = []\n",
    "    for d in soup.findAll('div', attrs={'data-hook':'review'}):\n",
    "        #print(d)\n",
    "        #name = d.find('span', attrs={'class':'a-profile-name'})\n",
    "        \n",
    "        title = d.find('a', attrs={'data-hook':'review-title'})\n",
    "        rating = d.find('i', attrs={'data-hook':'review-star-rating'})\n",
    "        body = d.find('span', attrs={'data-hook':'review-body'})\n",
    "        date = d.find('span', attrs={'data-hook':'review-date'})\n",
    "        product_title = soup.title.text.replace('Amazon.com: Customer reviews:', '')\n",
    "        \n",
    "\n",
    "        all1=[]\n",
    "\n",
    "        if title is not None:\n",
    "            #print(n[0]['alt'])\n",
    "            all1.append(title.text)\n",
    "        else:\n",
    "            all1.append(\"unknown-product\")\n",
    "\n",
    "#         if rating is not None:\n",
    "#             #print(author.text)\n",
    "#             all1.append(rating.text)\n",
    "#         elif author is None:\n",
    "#             author = d.find('span', attrs={'class':'a-size-small a-color-base'})\n",
    "#             if author is not None:\n",
    "#                 all1.append(author.text)\n",
    "#             else:    \n",
    "#                 all1.append('0')\n",
    "\n",
    "        if rating is not None:\n",
    "            #print(rating.text)\n",
    "            all1.append(rating.text)\n",
    "        else:\n",
    "            all1.append('0')\n",
    "\n",
    "        if body is not None:\n",
    "            #print(price.text)\n",
    "            all1.append(body.text)\n",
    "        else:\n",
    "            all1.append('unknown')     \n",
    "\n",
    "        if date is not None:\n",
    "            #print(price.text)\n",
    "            all1.append(date.text)\n",
    "        else:\n",
    "            all1.append('0')\n",
    "            \n",
    "        if product_title is not None:\n",
    "            #print(rating.text)\n",
    "            all1.append(product_title)\n",
    "#         else:\n",
    "#             all1.append('unknown_product')  \n",
    "            \n",
    "        alls.append(all1)    \n",
    "    return alls"
   ]
  },
  {
   "cell_type": "code",
   "execution_count": 15,
   "metadata": {},
   "outputs": [],
   "source": [
    "results = []\n",
    "for i in range(1, no_pages+1):\n",
    "    results.append(get_data(i))\n",
    "flatten = lambda l: [item for sublist in l for item in sublist]\n",
    "df = pd.DataFrame(flatten(results),columns=['Title', 'rating','body','date','product_title'])\n",
    "df.to_excel('amazon_products11.xlsx', index=False, encoding='utf-8')"
   ]
  },
  {
   "cell_type": "code",
   "execution_count": 16,
   "metadata": {},
   "outputs": [],
   "source": [
    "df = pd.read_excel(\"amazon_products11.xlsx\")"
   ]
  },
  {
   "cell_type": "code",
   "execution_count": 17,
   "metadata": {},
   "outputs": [
    {
     "data": {
      "text/html": [
       "<div>\n",
       "<style scoped>\n",
       "    .dataframe tbody tr th:only-of-type {\n",
       "        vertical-align: middle;\n",
       "    }\n",
       "\n",
       "    .dataframe tbody tr th {\n",
       "        vertical-align: top;\n",
       "    }\n",
       "\n",
       "    .dataframe thead th {\n",
       "        text-align: right;\n",
       "    }\n",
       "</style>\n",
       "<table border=\"1\" class=\"dataframe\">\n",
       "  <thead>\n",
       "    <tr style=\"text-align: right;\">\n",
       "      <th></th>\n",
       "      <th>Title</th>\n",
       "      <th>rating</th>\n",
       "      <th>body</th>\n",
       "      <th>date</th>\n",
       "      <th>product_title</th>\n",
       "    </tr>\n",
       "  </thead>\n",
       "  <tbody>\n",
       "    <tr>\n",
       "      <th>0</th>\n",
       "      <td>\\n100% YES\\n</td>\n",
       "      <td>5.0 out of 5 stars</td>\n",
       "      <td>\\n\\n  Amazing. If you’re on the fence about th...</td>\n",
       "      <td>Reviewed in the United States on September 23,...</td>\n",
       "      <td>DUDE Wipes Flushable Wet Wipes Dispenser, Min...</td>\n",
       "    </tr>\n",
       "    <tr>\n",
       "      <th>1</th>\n",
       "      <td>\\nNot Just for Your Bottom\\n</td>\n",
       "      <td>5.0 out of 5 stars</td>\n",
       "      <td>\\n\\n  I bought these because of the shortage o...</td>\n",
       "      <td>Reviewed in the United States on April 15, 2020</td>\n",
       "      <td>DUDE Wipes Flushable Wet Wipes Dispenser, Min...</td>\n",
       "    </tr>\n",
       "    <tr>\n",
       "      <th>2</th>\n",
       "      <td>\\nThese are nice\\n</td>\n",
       "      <td>3.0 out of 5 stars</td>\n",
       "      <td>\\n\\n  Pros: The mint scent is a really nice to...</td>\n",
       "      <td>Reviewed in the United States on February 10, ...</td>\n",
       "      <td>DUDE Wipes Flushable Wet Wipes Dispenser, Min...</td>\n",
       "    </tr>\n",
       "    <tr>\n",
       "      <th>3</th>\n",
       "      <td>\\nI have never felt so confident after a poop.\\n</td>\n",
       "      <td>5.0 out of 5 stars</td>\n",
       "      <td>\\n\\n  Ok, I'm not sure how well this travels, ...</td>\n",
       "      <td>Reviewed in the United States on October 13, 2019</td>\n",
       "      <td>DUDE Wipes Flushable Wet Wipes Dispenser, Min...</td>\n",
       "    </tr>\n",
       "    <tr>\n",
       "      <th>4</th>\n",
       "      <td>\\nAhhhh, but for your butt!\\n</td>\n",
       "      <td>5.0 out of 5 stars</td>\n",
       "      <td>\\n\\n  OK... Not gonna lie, I was a bit skeptic...</td>\n",
       "      <td>Reviewed in the United States on September 22,...</td>\n",
       "      <td>DUDE Wipes Flushable Wet Wipes Dispenser, Min...</td>\n",
       "    </tr>\n",
       "  </tbody>\n",
       "</table>\n",
       "</div>"
      ],
      "text/plain": [
       "                                              Title              rating  \\\n",
       "0                                      \\n100% YES\\n  5.0 out of 5 stars   \n",
       "1                      \\nNot Just for Your Bottom\\n  5.0 out of 5 stars   \n",
       "2                                \\nThese are nice\\n  3.0 out of 5 stars   \n",
       "3  \\nI have never felt so confident after a poop.\\n  5.0 out of 5 stars   \n",
       "4                     \\nAhhhh, but for your butt!\\n  5.0 out of 5 stars   \n",
       "\n",
       "                                                body  \\\n",
       "0  \\n\\n  Amazing. If you’re on the fence about th...   \n",
       "1  \\n\\n  I bought these because of the shortage o...   \n",
       "2  \\n\\n  Pros: The mint scent is a really nice to...   \n",
       "3  \\n\\n  Ok, I'm not sure how well this travels, ...   \n",
       "4  \\n\\n  OK... Not gonna lie, I was a bit skeptic...   \n",
       "\n",
       "                                                date  \\\n",
       "0  Reviewed in the United States on September 23,...   \n",
       "1    Reviewed in the United States on April 15, 2020   \n",
       "2  Reviewed in the United States on February 10, ...   \n",
       "3  Reviewed in the United States on October 13, 2019   \n",
       "4  Reviewed in the United States on September 22,...   \n",
       "\n",
       "                                       product_title  \n",
       "0   DUDE Wipes Flushable Wet Wipes Dispenser, Min...  \n",
       "1   DUDE Wipes Flushable Wet Wipes Dispenser, Min...  \n",
       "2   DUDE Wipes Flushable Wet Wipes Dispenser, Min...  \n",
       "3   DUDE Wipes Flushable Wet Wipes Dispenser, Min...  \n",
       "4   DUDE Wipes Flushable Wet Wipes Dispenser, Min...  "
      ]
     },
     "execution_count": 17,
     "metadata": {},
     "output_type": "execute_result"
    }
   ],
   "source": [
    "df.head()"
   ]
  },
  {
   "cell_type": "code",
   "execution_count": 123,
   "metadata": {},
   "outputs": [
    {
     "data": {
      "text/plain": [
       "(156, 5)"
      ]
     },
     "execution_count": 123,
     "metadata": {},
     "output_type": "execute_result"
    }
   ],
   "source": [
    "df.shape"
   ]
  },
  {
   "cell_type": "code",
   "execution_count": 124,
   "metadata": {},
   "outputs": [
    {
     "data": {
      "text/html": [
       "<div>\n",
       "<style scoped>\n",
       "    .dataframe tbody tr th:only-of-type {\n",
       "        vertical-align: middle;\n",
       "    }\n",
       "\n",
       "    .dataframe tbody tr th {\n",
       "        vertical-align: top;\n",
       "    }\n",
       "\n",
       "    .dataframe thead th {\n",
       "        text-align: right;\n",
       "    }\n",
       "</style>\n",
       "<table border=\"1\" class=\"dataframe\">\n",
       "  <thead>\n",
       "    <tr style=\"text-align: right;\">\n",
       "      <th></th>\n",
       "      <th>Title</th>\n",
       "      <th>rating</th>\n",
       "      <th>body</th>\n",
       "      <th>date</th>\n",
       "      <th>product_title</th>\n",
       "    </tr>\n",
       "  </thead>\n",
       "  <tbody>\n",
       "    <tr>\n",
       "      <th>151</th>\n",
       "      <td>\\nGood\\n</td>\n",
       "      <td>5.0 out of 5 stars</td>\n",
       "      <td>\\n\\n  Good\\n\\n</td>\n",
       "      <td>Reviewed in the United States on November 5, 2020</td>\n",
       "      <td>Microban 24 Hour Disinfectant Sanitizing Spra...</td>\n",
       "    </tr>\n",
       "    <tr>\n",
       "      <th>152</th>\n",
       "      <td>\\nTerrible product - spray stops working\\n</td>\n",
       "      <td>1.0 out of 5 stars</td>\n",
       "      <td>\\n\\n  I've bought 3 of these sprays during the...</td>\n",
       "      <td>Reviewed in the United States on October 8, 2020</td>\n",
       "      <td>Microban 24 Hour Disinfectant Sanitizing Spra...</td>\n",
       "    </tr>\n",
       "    <tr>\n",
       "      <th>153</th>\n",
       "      <td>\\nThis specific Microban does not kill COVID\\n</td>\n",
       "      <td>3.0 out of 5 stars</td>\n",
       "      <td>\\n\\n  This particular Microban product DOES NO...</td>\n",
       "      <td>Reviewed in the United States on November 5, 2020</td>\n",
       "      <td>Microban 24 Hour Disinfectant Sanitizing Spra...</td>\n",
       "    </tr>\n",
       "    <tr>\n",
       "      <th>154</th>\n",
       "      <td>\\nA wet mess that takes forever to dry\\n</td>\n",
       "      <td>3.0 out of 5 stars</td>\n",
       "      <td>\\n\\n  Good product  but my only negative comme...</td>\n",
       "      <td>Reviewed in the United States on December 12, ...</td>\n",
       "      <td>Microban 24 Hour Disinfectant Sanitizing Spra...</td>\n",
       "    </tr>\n",
       "    <tr>\n",
       "      <th>155</th>\n",
       "      <td>\\nKills da germs!!!\\n</td>\n",
       "      <td>5.0 out of 5 stars</td>\n",
       "      <td>\\n\\n  Disinfects without strong chemical smell...</td>\n",
       "      <td>Reviewed in the United States on December 3, 2020</td>\n",
       "      <td>Microban 24 Hour Disinfectant Sanitizing Spra...</td>\n",
       "    </tr>\n",
       "  </tbody>\n",
       "</table>\n",
       "</div>"
      ],
      "text/plain": [
       "                                              Title              rating  \\\n",
       "151                                        \\nGood\\n  5.0 out of 5 stars   \n",
       "152      \\nTerrible product - spray stops working\\n  1.0 out of 5 stars   \n",
       "153  \\nThis specific Microban does not kill COVID\\n  3.0 out of 5 stars   \n",
       "154        \\nA wet mess that takes forever to dry\\n  3.0 out of 5 stars   \n",
       "155                           \\nKills da germs!!!\\n  5.0 out of 5 stars   \n",
       "\n",
       "                                                  body  \\\n",
       "151                                     \\n\\n  Good\\n\\n   \n",
       "152  \\n\\n  I've bought 3 of these sprays during the...   \n",
       "153  \\n\\n  This particular Microban product DOES NO...   \n",
       "154  \\n\\n  Good product  but my only negative comme...   \n",
       "155  \\n\\n  Disinfects without strong chemical smell...   \n",
       "\n",
       "                                                  date  \\\n",
       "151  Reviewed in the United States on November 5, 2020   \n",
       "152   Reviewed in the United States on October 8, 2020   \n",
       "153  Reviewed in the United States on November 5, 2020   \n",
       "154  Reviewed in the United States on December 12, ...   \n",
       "155  Reviewed in the United States on December 3, 2020   \n",
       "\n",
       "                                         product_title  \n",
       "151   Microban 24 Hour Disinfectant Sanitizing Spra...  \n",
       "152   Microban 24 Hour Disinfectant Sanitizing Spra...  \n",
       "153   Microban 24 Hour Disinfectant Sanitizing Spra...  \n",
       "154   Microban 24 Hour Disinfectant Sanitizing Spra...  \n",
       "155   Microban 24 Hour Disinfectant Sanitizing Spra...  "
      ]
     },
     "execution_count": 124,
     "metadata": {},
     "output_type": "execute_result"
    }
   ],
   "source": [
    "df.tail()"
   ]
  },
  {
   "cell_type": "code",
   "execution_count": null,
   "metadata": {},
   "outputs": [],
   "source": []
  }
 ],
 "metadata": {
  "kernelspec": {
   "display_name": "Python 3",
   "language": "python",
   "name": "python3"
  },
  "language_info": {
   "codemirror_mode": {
    "name": "ipython",
    "version": 3
   },
   "file_extension": ".py",
   "mimetype": "text/x-python",
   "name": "python",
   "nbconvert_exporter": "python",
   "pygments_lexer": "ipython3",
   "version": "3.7.4"
  }
 },
 "nbformat": 4,
 "nbformat_minor": 2
}
